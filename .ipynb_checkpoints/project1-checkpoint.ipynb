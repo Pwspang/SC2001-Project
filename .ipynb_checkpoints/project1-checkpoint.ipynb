{
 "cells": [
  {
   "cell_type": "markdown",
   "id": "bd409899",
   "metadata": {},
   "source": [
    "## Lab 1"
   ]
  },
  {
   "cell_type": "markdown",
   "id": "1482e6e6",
   "metadata": {},
   "source": [
    "In Mergesort, when the sizes of subarrays are small, the overhead of many recursive calls makes the algorithm inefficient. Therefore, in real use, we often combine Mergesort with Insertion Sort to come up with a hybrid sorting algorithm for better efficiency. The idea is to set a small integer S as a threshold for the size of subarrays. \n",
    "\n",
    "Once the size of a subarray in a recursive call of Mergesort is less than or equal to S, the algorithm will switch to Insertion Sort, which is efficient for small-sized input."
   ]
  },
  {
   "cell_type": "markdown",
   "id": "224bf824",
   "metadata": {},
   "source": [
    "#### (a) Algorithm implementation: Implement the above hybrid algorithm."
   ]
  },
  {
   "cell_type": "code",
   "execution_count": 4,
   "id": "1e15f243",
   "metadata": {},
   "outputs": [
    {
     "data": {
      "text/plain": [
       "-1073741515"
      ]
     },
     "execution_count": 4,
     "metadata": {},
     "output_type": "execute_result"
    }
   ],
   "source": [
    "import os\n",
    "os.system(\".\\Lab1.exe < 1000Array.txt\")\n"
   ]
  },
  {
   "cell_type": "markdown",
   "id": "3576ffe3",
   "metadata": {},
   "source": [
    "#### b) Generate input data: Generate arrays of increasing sizes, in a range from 1,000 to 10 million. For each of the sizes, generate a random dataset of integers in the range of [1, …, x], where x is the largest number you allow for your datasets."
   ]
  },
  {
   "cell_type": "markdown",
   "id": "7ce3d9db",
   "metadata": {},
   "source": [
    "x = 10,000,000\n",
    "\n",
    "We generated 5 arrays of sizes, 1,000, 10,000, 100,000, 1,000,000 and 10,000,000 respectively.\n"
   ]
  },
  {
   "cell_type": "markdown",
   "id": "7fcd7023",
   "metadata": {},
   "source": [
    "#### c) Analyze time complexity: Run your program of the hybrid algorithm on the datasets generated in Step (b). Record the number of key comparisons performed in each case. \n",
    "   \n",
    "i. With the value of S fixed, plot the number of key comparisons over different sizes of the input list n. Compare your empirical results with your theoretical analysis of the time complexity"
   ]
  },
  {
   "cell_type": "markdown",
   "id": "1cea2a0c",
   "metadata": {},
   "source": [
    "We will fix S = 1000, and n to be over a range from 1 to 10 million"
   ]
  },
  {
   "cell_type": "markdown",
   "id": "17e53df4",
   "metadata": {},
   "source": [
    "ii. With the input size n fixed, plot the number of key comparisons over different values of S. Compare your empirical results with your theoretical analysis of the time complexity. "
   ]
  },
  {
   "cell_type": "code",
   "execution_count": null,
   "id": "dcf90344",
   "metadata": {},
   "outputs": [],
   "source": []
  }
 ],
 "metadata": {
  "kernelspec": {
   "display_name": "Python 3 (ipykernel)",
   "language": "python",
   "name": "python3"
  },
  "language_info": {
   "codemirror_mode": {
    "name": "ipython",
    "version": 3
   },
   "file_extension": ".py",
   "mimetype": "text/x-python",
   "name": "python",
   "nbconvert_exporter": "python",
   "pygments_lexer": "ipython3",
   "version": "3.9.12"
  }
 },
 "nbformat": 4,
 "nbformat_minor": 5
}
